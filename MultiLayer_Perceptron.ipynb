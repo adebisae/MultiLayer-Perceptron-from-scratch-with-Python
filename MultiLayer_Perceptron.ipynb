{
 "cells": [
  {
   "cell_type": "code",
   "execution_count": null,
   "metadata": {
    "collapsed": true
   },
   "outputs": [],
   "source": [
    "import random\n",
    "import numpy as np\n",
    "import pandas as pd\n",
    "import csv\n",
    "import matplotlib.pyplot as plt\n",
    "from math import exp\n",
    "%matplotlib inline"
   ]
  },
  {
   "cell_type": "code",
   "execution_count": null,
   "metadata": {},
   "outputs": [],
   "source": [
    "num_of_layers = int(input('Enter the number of layers: '))"
   ]
  },
  {
   "cell_type": "code",
   "execution_count": null,
   "metadata": {},
   "outputs": [],
   "source": [
    "num_of_neurons = int(input('Enter the number of neurons: '))"
   ]
  },
  {
   "cell_type": "code",
   "execution_count": null,
   "metadata": {
    "collapsed": true
   },
   "outputs": [],
   "source": []
  },
  {
   "cell_type": "code",
   "execution_count": null,
   "metadata": {
    "collapsed": true
   },
   "outputs": [],
   "source": [
    "def initialize_network(n, l, h, o):\n",
    "    def r():\n",
    "        return random.uniform(-0.50, 0.50)\n",
    "    \n",
    "    neural_network = []\n",
    "    for i in range(l):\n",
    "        if i == 0:\n",
    "            neural_network.append([{'w':[r() for i in range(n+1)]} for j in range(h)])\n",
    "        else:\n",
    "            neural_network.append([{'w':[r() for i in range(h+1)]} for j in range(h)])\n",
    "    \n",
    "    neural_network.append([{'w':[r() for i in range(h+1)]} for j in range(o)])\n",
    "    return neural_network"
   ]
  },
  {
   "cell_type": "code",
   "execution_count": null,
   "metadata": {
    "collapsed": true
   },
   "outputs": [],
   "source": [
    "def summing_function(weights, inputs):\n",
    "    bias = weights[-1]\n",
    "    summ = 0.00\n",
    "    for i in range(len(weights)-1):\n",
    "        summ += (weights[i] * float(inputs[i]))\n",
    "    return summ + bias"
   ]
  },
  {
   "cell_type": "code",
   "execution_count": null,
   "metadata": {
    "collapsed": true
   },
   "outputs": [],
   "source": [
    "def activation_function(z):\n",
    "    return 1 / (1 + exp(-z))"
   ]
  },
  {
   "cell_type": "code",
   "execution_count": null,
   "metadata": {
    "collapsed": true
   },
   "outputs": [],
   "source": [
    "def feed_forward(network, example):\n",
    "    layer_input, layer_output = example, []\n",
    "    for layer in network:\n",
    "        for neuron in layer:\n",
    "            summ = summing_function(neuron['w'], layer_input)\n",
    "            neuron['o'] = activation_function(summ)\n",
    "            layer_output.append(neuron['o'])\n",
    "        layer_input, layer_output = layer_output, []\n",
    "    return layer_input"
   ]
  },
  {
   "cell_type": "code",
   "execution_count": null,
   "metadata": {
    "collapsed": true
   },
   "outputs": [],
   "source": [
    "def activation_derivative(z):\n",
    "    return z * (1 - z)"
   ]
  },
  {
   "cell_type": "code",
   "execution_count": null,
   "metadata": {
    "collapsed": true
   },
   "outputs": [],
   "source": [
    "def backpropagate(network, example):\n",
    "    for i in range(len(network)-1, -1, -1):\n",
    "        for j in range(len(network[i])):\n",
    "            err = 0.00\n",
    "            if i == len(network)-1:\n",
    "                err = example[j] - network[i][j]['o']\n",
    "            else:\n",
    "                summ = 0.00\n",
    "                for neuron in network[i+1]:\n",
    "                    summ += neuron['w'][j] * neuron['d']\n",
    "                err = summ\n",
    "            network[i][j]['d'] = activation_derivative(network[i][j]['o']) * err"
   ]
  },
  {
   "cell_type": "code",
   "execution_count": null,
   "metadata": {
    "collapsed": true
   },
   "outputs": [],
   "source": [
    "def update_weights(network, example, delta):\n",
    "    for i in range(len(network)):\n",
    "        if i != 0:\n",
    "            t = [neuron['o'] for neuron in network[i-1]]\n",
    "        else:\n",
    "            t = example[:-1]\n",
    "        for neuron, d in zip(network[i], range(0, len(network[i]))):\n",
    "            for f in range(len(t)):\n",
    "                neuron['w'][f] += LEARNING_RATE * float(t[f]) * neuron['d']\n",
    "                if delta is not None:\n",
    "                    neuron['w'][f] += MOMENTUM_RATE * delta[d]\n",
    "                neuron['w'][-1] += LEARNING_RATE * neuron['d']"
   ]
  },
  {
   "cell_type": "code",
   "execution_count": null,
   "metadata": {
    "collapsed": true
   },
   "outputs": [],
   "source": [
    "def sse(actual, target):\n",
    "    summ = 0.00\n",
    "    for i in range(len(actual)):\n",
    "        summ += (actual[i] - target[i])**2\n",
    "    return summ"
   ]
  },
  {
   "cell_type": "code",
   "execution_count": null,
   "metadata": {
    "collapsed": true
   },
   "outputs": [],
   "source": [
    "def stochastic_gradient_descent(network, classes, training_data):\n",
    "    for epoch in range(0, EPOCHS):\n",
    "        first_example = True\n",
    "        total_error = 0.00\n",
    "        for example in training_data:\n",
    "            temporal_delta = [neuron['d'] \\\n",
    "                for layer in network for neuron in layer] \\\n",
    "                if not first_example else None\n",
    "            outputs = [0 for _ in range(classes)]\n",
    "            outputs[int(example[-1])] = 1\n",
    "            actual = feed_forward(network, example)\n",
    "            total_error += sse(actual, outputs)\n",
    "            backpropagate(network, outputs)\n",
    "            update_weights(network, example, temporal_delta)\n",
    "            reset_neurons(network)\n",
    "            first_example = False\n",
    "        print('>epoch=%d, error=%.3f' %(epoch, total_error))\n",
    "        #if epoch % 10 == 0:\n",
    "        MSE.append(total_error/len(training_data))\n",
    "        #TRP.append(performance_measure(NETWORK, TRAIN))\n",
    "        #TEP.append(performance_measure(NETWORK, TEST))"
   ]
  },
  {
   "cell_type": "code",
   "execution_count": null,
   "metadata": {
    "collapsed": true
   },
   "outputs": [],
   "source": []
  },
  {
   "cell_type": "code",
   "execution_count": null,
   "metadata": {
    "collapsed": true
   },
   "outputs": [],
   "source": [
    "def reset_neurons(network):\n",
    "    for layer in network:\n",
    "        for neuron in layer:\n",
    "            neuron['o'] = 0"
   ]
  },
  {
   "cell_type": "code",
   "execution_count": null,
   "metadata": {
    "collapsed": true
   },
   "outputs": [],
   "source": []
  },
  {
   "cell_type": "code",
   "execution_count": null,
   "metadata": {
    "collapsed": true
   },
   "outputs": [],
   "source": [
    "def performance_measure(network, data):\n",
    "    correct, total = 0, 0\n",
    "    for example in data:\n",
    "        if check_output(network, example) == float(example[-1]):\n",
    "            correct += 1\n",
    "        total += 1\n",
    "    return 100*(correct / total)\n",
    "\n",
    "def check_output(network, example):\n",
    "    output = feed_forward(network, example)\n",
    "    return output.index(max(output))\n"
   ]
  },
  {
   "cell_type": "code",
   "execution_count": null,
   "metadata": {
    "collapsed": true
   },
   "outputs": [],
   "source": []
  },
  {
   "cell_type": "code",
   "execution_count": null,
   "metadata": {},
   "outputs": [],
   "source": [
    "def plot_data():\n",
    "    x = range(0, EPOCHS)\n",
    "    fig, ax2 = plt.subplots()\n",
    "    ax2.set_xlabel('Epoch')\n",
    "    ax2.set_ylabel('MSE', color='blue')\n",
    "    line, = ax2.plot(x, MSE, '-', c='blue', lw='1', label='MSE')\n",
    "    fig.tight_layout()\n",
    "    plt.show()\n",
    "    plt.clf()"
   ]
  },
  {
   "cell_type": "code",
   "execution_count": null,
   "metadata": {
    "collapsed": true
   },
   "outputs": [],
   "source": []
  },
  {
   "cell_type": "code",
   "execution_count": null,
   "metadata": {
    "collapsed": true
   },
   "outputs": [],
   "source": [
    "data = pd.read_csv('MNISTnumImages5000_balanced.txt', sep = '\\t', header=None)\n",
    "data['labels'] = pd.read_csv('MNISTnumLabels5000_balanced.txt', header=None)"
   ]
  },
  {
   "cell_type": "code",
   "execution_count": null,
   "metadata": {},
   "outputs": [],
   "source": [
    "from sklearn.model_selection import train_test_split\n",
    "train_data, test_data = train_test_split(data, test_size=0.2, random_state=42)"
   ]
  },
  {
   "cell_type": "code",
   "execution_count": null,
   "metadata": {
    "collapsed": true
   },
   "outputs": [],
   "source": []
  },
  {
   "cell_type": "code",
   "execution_count": null,
   "metadata": {
    "collapsed": true
   },
   "outputs": [],
   "source": [
    "train_data.reset_index(inplace=True, drop=True)\n",
    "train_data = train_data.values.tolist()\n",
    "for i in range(len(train_data)):\n",
    "    train_data[i][-1] = int(train_data[i][-1])\n",
    "\n",
    "test_data.reset_index(inplace=True, drop=True)\n",
    "test_data = test_data.values.tolist()\n",
    "for i in range(len(test_data)):\n",
    "    test_data[i][-1] = int(test_data[i][-1])"
   ]
  },
  {
   "cell_type": "code",
   "execution_count": null,
   "metadata": {
    "collapsed": true
   },
   "outputs": [],
   "source": []
  },
  {
   "cell_type": "code",
   "execution_count": null,
   "metadata": {
    "collapsed": true
   },
   "outputs": [],
   "source": [
    "TRAIN = train_data\n",
    "features = len(TRAIN[0][:-1])\n",
    "classes = len(list(set([c[-1] for c in TRAIN])))\n",
    "NETWORK = initialize_network(features, num_of_layers, num_of_neurons, classes)\n",
    "LEARNING_RATE, MOMENTUM_RATE = 0.03, 0.5\n",
    "\n",
    "EPOCHS = 100\n",
    "MSE, TRP, TEP = [], [], []\n",
    "stochastic_gradient_descent(NETWORK, classes, TRAIN)\n"
   ]
  },
  {
   "cell_type": "code",
   "execution_count": null,
   "metadata": {
    "collapsed": true
   },
   "outputs": [],
   "source": [
    "result = []\n",
    "for row in train_data:\n",
    "    prediction = check_output(NETWORK, row)\n",
    "    result.append([row[-1],prediction])"
   ]
  },
  {
   "cell_type": "code",
   "execution_count": null,
   "metadata": {
    "collapsed": true
   },
   "outputs": [],
   "source": []
  },
  {
   "cell_type": "code",
   "execution_count": null,
   "metadata": {
    "collapsed": true
   },
   "outputs": [],
   "source": [
    "cm_train = np.zeros((10,10))\n",
    "for i in range(len(result)):\n",
    "    cm_train[result[i][0]][result[i][1]] = cm_train[result[i][0]][result[i][1]] + 1"
   ]
  },
  {
   "cell_type": "code",
   "execution_count": null,
   "metadata": {},
   "outputs": [],
   "source": [
    "cm_train"
   ]
  },
  {
   "cell_type": "code",
   "execution_count": null,
   "metadata": {
    "collapsed": true
   },
   "outputs": [],
   "source": [
    "cm_df = pd.DataFrame(cm_train)\n",
    "cm_df.to_excel('cm_df.xlsx')"
   ]
  },
  {
   "cell_type": "code",
   "execution_count": null,
   "metadata": {
    "collapsed": true
   },
   "outputs": [],
   "source": [
    "result = []\n",
    "for row in test_data:\n",
    "    prediction = check_output(NETWORK, row)\n",
    "    result.append([row[-1],prediction])"
   ]
  },
  {
   "cell_type": "code",
   "execution_count": null,
   "metadata": {
    "collapsed": true
   },
   "outputs": [],
   "source": [
    "cm_test = np.zeros((10,10))\n",
    "for i in range(len(result)):\n",
    "    cm_test[result[i][0]][result[i][1]] = cm_test[result[i][0]][result[i][1]] + 1"
   ]
  },
  {
   "cell_type": "code",
   "execution_count": null,
   "metadata": {},
   "outputs": [],
   "source": [
    "cm_test"
   ]
  },
  {
   "cell_type": "code",
   "execution_count": null,
   "metadata": {
    "collapsed": true
   },
   "outputs": [],
   "source": [
    "cm_df_t = pd.DataFrame(cm_test)\n",
    "cm_df_t.to_excel('cm_df_t.xlsx')"
   ]
  },
  {
   "cell_type": "code",
   "execution_count": null,
   "metadata": {},
   "outputs": [],
   "source": [
    "plot_data()\n",
    "plt.style.use('default')"
   ]
  },
  {
   "cell_type": "code",
   "execution_count": null,
   "metadata": {
    "collapsed": true
   },
   "outputs": [],
   "source": [
    "neurons_20 = []\n",
    "for k in range(20):\n",
    "    weights = NETWORK[0][k]['w'][:-1]\n",
    "    n_weights = []\n",
    "    for l in range(len(weights)):\n",
    "        n_weights.append((weights[l] - min(weights))/(max(weights) - min(weights)))\n",
    "    neurons_20.append(n_weights)"
   ]
  },
  {
   "cell_type": "code",
   "execution_count": null,
   "metadata": {},
   "outputs": [],
   "source": [
    "fig, axs = plt.subplots(4, 5,figsize=(10,10))\n",
    "plt.style.use('grayscale')\n",
    "j = 0\n",
    "k = 0\n",
    "for i in range(len(neurons_20)):\n",
    "    im = np.reshape(neurons_20[i],(28,28))\n",
    "    if (i % 5 == 0) and (i != 0):\n",
    "        j = j + 1  \n",
    "    axs[j, k].imshow(im)\n",
    "    axs[j, k].set_title(str(i+1))\n",
    "    k = k + 1\n",
    "    if k == 5:\n",
    "        k = 0  "
   ]
  },
  {
   "cell_type": "code",
   "execution_count": null,
   "metadata": {
    "collapsed": true
   },
   "outputs": [],
   "source": []
  },
  {
   "cell_type": "code",
   "execution_count": null,
   "metadata": {
    "collapsed": true
   },
   "outputs": [],
   "source": []
  }
 ],
 "metadata": {
  "anaconda-cloud": {},
  "kernelspec": {
   "display_name": "Python 3",
   "language": "python",
   "name": "python3"
  },
  "language_info": {
   "codemirror_mode": {
    "name": "ipython",
    "version": 3
   },
   "file_extension": ".py",
   "mimetype": "text/x-python",
   "name": "python",
   "nbconvert_exporter": "python",
   "pygments_lexer": "ipython3",
   "version": "3.7.3"
  }
 },
 "nbformat": 4,
 "nbformat_minor": 1
}
